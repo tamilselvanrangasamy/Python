{
  "nbformat": 4,
  "nbformat_minor": 0,
  "metadata": {
    "colab": {
      "provenance": [],
      "authorship_tag": "ABX9TyNgFd0F87WpaAeb+QgYzPO/",
      "include_colab_link": true
    },
    "kernelspec": {
      "name": "python3",
      "display_name": "Python 3"
    },
    "language_info": {
      "name": "python"
    }
  },
  "cells": [
    {
      "cell_type": "markdown",
      "metadata": {
        "id": "view-in-github",
        "colab_type": "text"
      },
      "source": [
        "<a href=\"https://colab.research.google.com/github/tamilselvanrangasamy/Python/blob/main/Dictionary.ipynb\" target=\"_parent\"><img src=\"https://colab.research.google.com/assets/colab-badge.svg\" alt=\"Open In Colab\"/></a>"
      ]
    },
    {
      "cell_type": "code",
      "execution_count": 1,
      "metadata": {
        "id": "CjoYyfRqWAPb"
      },
      "outputs": [],
      "source": [
        "details={\"Name\":\"Tamilselvan\",\"Age\":26,\"City\":\"Erode\",\"Japanese Level\":\"N5\"}"
      ]
    },
    {
      "cell_type": "code",
      "source": [
        "print(f'Name : {details[\"Name\"]}\\nAge : {details[\"Age\"]}\\nCity : {details[\"City\"]}\\nLevel : {details[\"Japanese Level\"]}')"
      ],
      "metadata": {
        "id": "L93olJMBWdWf",
        "outputId": "d28f89d3-f3a7-47ca-b2be-4b67456dcb31",
        "colab": {
          "base_uri": "https://localhost:8080/"
        }
      },
      "execution_count": 7,
      "outputs": [
        {
          "output_type": "stream",
          "name": "stdout",
          "text": [
            "Name : Tamilselvan\n",
            "Age : 26\n",
            "City : Erode\n",
            "Level : N5\n"
          ]
        }
      ]
    },
    {
      "cell_type": "code",
      "source": [],
      "metadata": {
        "id": "DChC-PJpWrbg"
      },
      "execution_count": null,
      "outputs": []
    }
  ]
}