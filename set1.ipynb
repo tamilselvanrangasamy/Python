{
  "nbformat": 4,
  "nbformat_minor": 0,
  "metadata": {
    "colab": {
      "provenance": [],
      "authorship_tag": "ABX9TyMvK5FkjpqzhWl6eOq3V+QY",
      "include_colab_link": true
    },
    "kernelspec": {
      "name": "python3",
      "display_name": "Python 3"
    },
    "language_info": {
      "name": "python"
    }
  },
  "cells": [
    {
      "cell_type": "markdown",
      "metadata": {
        "id": "view-in-github",
        "colab_type": "text"
      },
      "source": [
        "<a href=\"https://colab.research.google.com/github/tamilselvanrangasamy/Python/blob/main/set1.ipynb\" target=\"_parent\"><img src=\"https://colab.research.google.com/assets/colab-badge.svg\" alt=\"Open In Colab\"/></a>"
      ]
    },
    {
      "cell_type": "code",
      "source": [
        "setData={1,2,3,4,5}\n"
      ],
      "metadata": {
        "id": "koXMaRxDUR9-"
      },
      "execution_count": 1,
      "outputs": []
    },
    {
      "cell_type": "code",
      "execution_count": 2,
      "metadata": {
        "id": "EvIzPYO8Tti2"
      },
      "outputs": [],
      "source": [
        "setData.add(\"numbers\")\n",
        "setData.add(33.55)"
      ]
    },
    {
      "cell_type": "code",
      "source": [
        "setData"
      ],
      "metadata": {
        "id": "RNLKKapIGMOj",
        "outputId": "50929c89-0c88-46f8-af57-cf291b2409c4",
        "colab": {
          "base_uri": "https://localhost:8080/"
        }
      },
      "execution_count": 4,
      "outputs": [
        {
          "output_type": "execute_result",
          "data": {
            "text/plain": [
              "{1, 2, 3, 33.55, 4, 5, 'numbers'}"
            ]
          },
          "metadata": {},
          "execution_count": 4
        }
      ]
    },
    {
      "cell_type": "code",
      "source": [
        "setData.pop()"
      ],
      "metadata": {
        "id": "OHCPmqmmGOLj",
        "outputId": "3441d7ce-2bda-441d-808b-434530445d11",
        "colab": {
          "base_uri": "https://localhost:8080/"
        }
      },
      "execution_count": 5,
      "outputs": [
        {
          "output_type": "execute_result",
          "data": {
            "text/plain": [
              "1"
            ]
          },
          "metadata": {},
          "execution_count": 5
        }
      ]
    },
    {
      "cell_type": "code",
      "source": [
        "setData.remove(\"numbers\")"
      ],
      "metadata": {
        "id": "lpzvzEyCGRvD"
      },
      "execution_count": 6,
      "outputs": []
    },
    {
      "cell_type": "code",
      "source": [
        "setData"
      ],
      "metadata": {
        "id": "0AtstTIuGVnT",
        "outputId": "f96063c5-f854-42ae-da46-e20420fddb03",
        "colab": {
          "base_uri": "https://localhost:8080/"
        }
      },
      "execution_count": 7,
      "outputs": [
        {
          "output_type": "execute_result",
          "data": {
            "text/plain": [
              "{2, 3, 4, 5, 33.55}"
            ]
          },
          "metadata": {},
          "execution_count": 7
        }
      ]
    },
    {
      "cell_type": "code",
      "source": [
        "setData.discard(3)\n",
        "setData\n"
      ],
      "metadata": {
        "id": "J427eGpeGWwT",
        "outputId": "59e21c6e-1354-49fa-a43e-a449a15f5185",
        "colab": {
          "base_uri": "https://localhost:8080/"
        }
      },
      "execution_count": 8,
      "outputs": [
        {
          "output_type": "execute_result",
          "data": {
            "text/plain": [
              "{2, 4, 5, 33.55}"
            ]
          },
          "metadata": {},
          "execution_count": 8
        }
      ]
    },
    {
      "cell_type": "code",
      "source": [
        "setData.update({1,4,5,9+8j})\n",
        "setData"
      ],
      "metadata": {
        "id": "D6imli6VGaZU",
        "outputId": "12233da0-ca36-4575-adda-59a1895446c2",
        "colab": {
          "base_uri": "https://localhost:8080/"
        }
      },
      "execution_count": 9,
      "outputs": [
        {
          "output_type": "execute_result",
          "data": {
            "text/plain": [
              "{(9+8j), 1, 2, 33.55, 4, 5}"
            ]
          },
          "metadata": {},
          "execution_count": 9
        }
      ]
    },
    {
      "cell_type": "code",
      "source": [],
      "metadata": {
        "id": "URLx6hKmGi-j"
      },
      "execution_count": null,
      "outputs": []
    }
  ]
}