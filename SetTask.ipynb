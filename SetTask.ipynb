{
  "nbformat": 4,
  "nbformat_minor": 0,
  "metadata": {
    "colab": {
      "provenance": [],
      "authorship_tag": "ABX9TyPtVo6nc4Jt3hRTohzmAs9J",
      "include_colab_link": true
    },
    "kernelspec": {
      "name": "python3",
      "display_name": "Python 3"
    },
    "language_info": {
      "name": "python"
    }
  },
  "cells": [
    {
      "cell_type": "markdown",
      "metadata": {
        "id": "view-in-github",
        "colab_type": "text"
      },
      "source": [
        "<a href=\"https://colab.research.google.com/github/tamilselvanrangasamy/Python/blob/main/SetTask.ipynb\" target=\"_parent\"><img src=\"https://colab.research.google.com/assets/colab-badge.svg\" alt=\"Open In Colab\"/></a>"
      ]
    },
    {
      "cell_type": "code",
      "execution_count": 1,
      "metadata": {
        "id": "_TndMcq5UobD"
      },
      "outputs": [],
      "source": [
        "set1={1,2,3,4}\n",
        "set2={2,4,5,2}\n",
        "set3={3,4,5,8}\n"
      ]
    },
    {
      "cell_type": "code",
      "source": [
        "print(set1 | set2)"
      ],
      "metadata": {
        "id": "vkXmcKOBU7mJ",
        "outputId": "76c8d71b-1a21-47ae-8b7b-278af9452044",
        "colab": {
          "base_uri": "https://localhost:8080/"
        }
      },
      "execution_count": 2,
      "outputs": [
        {
          "output_type": "stream",
          "name": "stdout",
          "text": [
            "{1, 2, 3, 4, 5}\n"
          ]
        }
      ]
    },
    {
      "cell_type": "code",
      "source": [
        "print(set1 & set2)"
      ],
      "metadata": {
        "id": "RTuaNvdpU-39",
        "outputId": "580be0c7-72d3-4ffd-8ae5-4b511889e029",
        "colab": {
          "base_uri": "https://localhost:8080/"
        }
      },
      "execution_count": 3,
      "outputs": [
        {
          "output_type": "stream",
          "name": "stdout",
          "text": [
            "{2, 4}\n"
          ]
        }
      ]
    },
    {
      "cell_type": "code",
      "source": [
        "print(set1 - set2)"
      ],
      "metadata": {
        "id": "4yly-11ZVB-T",
        "outputId": "7e7dd881-0988-48ae-d03b-d802a1a369a2",
        "colab": {
          "base_uri": "https://localhost:8080/"
        }
      },
      "execution_count": 4,
      "outputs": [
        {
          "output_type": "stream",
          "name": "stdout",
          "text": [
            "{1, 3}\n"
          ]
        }
      ]
    },
    {
      "cell_type": "code",
      "source": [
        "print(set1.union(set2).union(set3))"
      ],
      "metadata": {
        "id": "_6jLVVkuVEc3",
        "outputId": "93a498d5-1672-450c-97eb-97a76a6f7a65",
        "colab": {
          "base_uri": "https://localhost:8080/"
        }
      },
      "execution_count": 5,
      "outputs": [
        {
          "output_type": "stream",
          "name": "stdout",
          "text": [
            "{1, 2, 3, 4, 5, 8}\n"
          ]
        }
      ]
    },
    {
      "cell_type": "code",
      "source": [
        "set1.intersection(set2)\n",
        "set1.intersection(set2).intersection(set3)"
      ],
      "metadata": {
        "id": "uR-pfhmVVJl4",
        "outputId": "698865d3-4778-472d-9b16-474bcd823373",
        "colab": {
          "base_uri": "https://localhost:8080/"
        }
      },
      "execution_count": 7,
      "outputs": [
        {
          "output_type": "execute_result",
          "data": {
            "text/plain": [
              "{4}"
            ]
          },
          "metadata": {},
          "execution_count": 7
        }
      ]
    },
    {
      "cell_type": "code",
      "source": [
        "set1.intersection(set2)"
      ],
      "metadata": {
        "id": "7eFgQp2IVQ23",
        "outputId": "98f9bd22-edf6-46b5-8b3a-ecc87144aa08",
        "colab": {
          "base_uri": "https://localhost:8080/"
        }
      },
      "execution_count": 8,
      "outputs": [
        {
          "output_type": "execute_result",
          "data": {
            "text/plain": [
              "{2, 4}"
            ]
          },
          "metadata": {},
          "execution_count": 8
        }
      ]
    },
    {
      "cell_type": "code",
      "source": [
        "set1.difference(set2)"
      ],
      "metadata": {
        "id": "i45s66jSVVRv",
        "outputId": "de56142e-fe19-4dc3-9da9-08114a90d23e",
        "colab": {
          "base_uri": "https://localhost:8080/"
        }
      },
      "execution_count": 9,
      "outputs": [
        {
          "output_type": "execute_result",
          "data": {
            "text/plain": [
              "{1, 3}"
            ]
          },
          "metadata": {},
          "execution_count": 9
        }
      ]
    },
    {
      "cell_type": "code",
      "source": [
        "set1.difference(set2).difference(set3)"
      ],
      "metadata": {
        "id": "B1EkNsTRVXo8",
        "outputId": "02291684-4bf2-4655-c38d-ae66f6c349e9",
        "colab": {
          "base_uri": "https://localhost:8080/"
        }
      },
      "execution_count": 10,
      "outputs": [
        {
          "output_type": "execute_result",
          "data": {
            "text/plain": [
              "{1}"
            ]
          },
          "metadata": {},
          "execution_count": 10
        }
      ]
    },
    {
      "cell_type": "code",
      "source": [],
      "metadata": {
        "id": "-7NOKcBNVbGl"
      },
      "execution_count": null,
      "outputs": []
    }
  ]
}